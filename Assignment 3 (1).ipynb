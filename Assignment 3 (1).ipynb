{
 "cells": [
  {
   "cell_type": "markdown",
   "id": "35729b90-42e3-46bf-b52b-212f521c95c9",
   "metadata": {},
   "source": [
    "1.Explain with an example each when to use a for loop and a while loop.\n",
    "Ans:-A for loop is a control flow statement that executes code for a predefined number of iterations.The keyword used in this\n",
    "control flow statement is 'for'.When the number of statements is allready known then for loop is used.\n",
    "example:-list = [1,2,3,4,5]\n",
    "         print(\"list elements :\")\n",
    "         for i in list :\n",
    "              print(i)\n",
    "while loop executes a single statement or a set of statements for a given true condition.This loop is represented by the \n",
    "keyword 'while'.It is used only when the number pf iterations isn't known.\n",
    "example:- i = 0\n",
    "          while i<10 :\n",
    "            print(i)\n",
    "            i += 1\n",
    "    "
   ]
  },
  {
   "cell_type": "markdown",
   "id": "a020443e-93bc-420f-842b-b272f9666cdb",
   "metadata": {},
   "source": [
    "2.Write a python program to print the sum and product of first 10 natural numbers using for and while loop."
   ]
  },
  {
   "cell_type": "code",
   "execution_count": 12,
   "id": "c39fbf6b-7498-479f-929b-58d4213f32fd",
   "metadata": {},
   "outputs": [
    {
     "name": "stdout",
     "output_type": "stream",
     "text": [
      "sum is 55\n"
     ]
    }
   ],
   "source": [
    "sum = 0\n",
    "for i in range(1, 11):\n",
    "    sum += i\n",
    "print(\"sum is\", sum)"
   ]
  },
  {
   "cell_type": "code",
   "execution_count": 1,
   "id": "9b574bfd-92fc-44cc-8a97-dc9f599a4968",
   "metadata": {},
   "outputs": [
    {
     "name": "stdout",
     "output_type": "stream",
     "text": [
      "3628800\n"
     ]
    }
   ],
   "source": [
    "product = 1\n",
    "for i in range(1, 11) :\n",
    "    product = product * i\n",
    "print(product)\n"
   ]
  },
  {
   "cell_type": "code",
   "execution_count": 4,
   "id": "b8ea2d4d-604b-4c5b-9f8a-fd74ff9ab1c1",
   "metadata": {},
   "outputs": [
    {
     "name": "stdout",
     "output_type": "stream",
     "text": [
      "The sum is 55\n"
     ]
    }
   ],
   "source": [
    "i = 1\n",
    "sum = 0\n",
    "while i <= 10:\n",
    "    sum += i\n",
    "    i += 1\n",
    "print(\"The sum is\", sum)"
   ]
  },
  {
   "cell_type": "code",
   "execution_count": 17,
   "id": "83d8cdad-ad1e-4da6-a3f9-f970ab6c53f3",
   "metadata": {},
   "outputs": [
    {
     "name": "stdout",
     "output_type": "stream",
     "text": [
      "The product is : 3628800\n"
     ]
    }
   ],
   "source": [
    "i = 1\n",
    "product = 1\n",
    "while i <= 10:\n",
    "    product = product * i\n",
    "    i+=1\n",
    "print(\"The product is :\", product)"
   ]
  },
  {
   "cell_type": "markdown",
   "id": "8291d416-eb12-4395-b9b8-fb6a5bb9909b",
   "metadata": {},
   "source": [
    "3.create a program to compute the electricity bill for a household."
   ]
  },
  {
   "cell_type": "code",
   "execution_count": 21,
   "id": "32e91eb3-12c2-46d2-9d7e-32185806be21",
   "metadata": {},
   "outputs": [
    {
     "name": "stdin",
     "output_type": "stream",
     "text": [
      "Enter number of units consumed : 310\n"
     ]
    },
    {
     "name": "stdout",
     "output_type": "stream",
     "text": [
      "Total bill is : 2250.0\n"
     ]
    }
   ],
   "source": [
    "units = int(input(\"Enter number of units consumed :\"))\n",
    "if(units<=100):\n",
    "    bill = units * 4.5\n",
    "elif units >= 101 and units <= 200:\n",
    "    bill = (100 * 4.5) + (units-100) * 6\n",
    "elif units >= 201 and units <= 300:\n",
    "    bill = (100 * 4.5) + (100 * 6) + (units - 200) * 10\n",
    "else :\n",
    "    bill = (100 * 4.5) + (100 * 6) + (100 * 10) + (units - 300) * 20\n",
    "print(\"Total bill is :\", bill)"
   ]
  },
  {
   "cell_type": "markdown",
   "id": "2b4fbd0b-3d79-47d1-9074-cdadbb3954ef",
   "metadata": {},
   "source": [
    "4.create a list of numbers from 1 to 100.Use for loop and while loop to create the cube of each number and if the cube is \n",
    "divisible by 4 or 5 then append that number in a list and print that list."
   ]
  },
  {
   "cell_type": "code",
   "execution_count": 2,
   "id": "55abdc15-f2df-42c3-95e0-eb80ac9259f4",
   "metadata": {},
   "outputs": [
    {
     "name": "stdout",
     "output_type": "stream",
     "text": [
      "[1, 2, 3, 4, 5, 6, 7, 8, 9, 10, 11, 12, 13, 14, 15, 16, 17, 18, 19, 20, 21, 22, 23, 24, 25, 26, 27, 28, 29, 30, 31, 32, 33, 34, 35, 36, 37, 38, 39, 40, 41, 42, 43, 44, 45, 46, 47, 48, 49, 50, 51, 52, 53, 54, 55, 56, 57, 58, 59, 60, 61, 62, 63, 64, 65, 66, 67, 68, 69, 70, 71, 72, 73, 74, 75, 76, 77, 78, 79, 80, 81, 82, 83, 84, 85, 86, 87, 88, 89, 90, 91, 92, 93, 94, 95, 96, 97, 98, 99, 100]\n"
     ]
    }
   ],
   "source": [
    "l1 = list(range(1,101))\n",
    "print(l1)"
   ]
  },
  {
   "cell_type": "code",
   "execution_count": 3,
   "id": "13ad3a54-81eb-4d80-8767-fb6752f3fa53",
   "metadata": {},
   "outputs": [
    {
     "name": "stdout",
     "output_type": "stream",
     "text": [
      "[1, 8, 27, 64, 125, 216, 343, 512, 729, 1000, 1331, 1728, 2197, 2744, 3375, 4096, 4913, 5832, 6859, 8000, 9261, 10648, 12167, 13824, 15625, 17576, 19683, 21952, 24389, 27000, 29791, 32768, 35937, 39304, 42875, 46656, 50653, 54872, 59319, 64000, 68921, 74088, 79507, 85184, 91125, 97336, 103823, 110592, 117649, 125000, 132651, 140608, 148877, 157464, 166375, 175616, 185193, 195112, 205379, 216000, 226981, 238328, 250047, 262144, 274625, 287496, 300763, 314432, 328509, 343000, 357911, 373248, 389017, 405224, 421875, 438976, 456533, 474552, 493039, 512000, 531441, 551368, 571787, 592704, 614125, 636056, 658503, 681472, 704969, 729000, 753571, 778688, 804357, 830584, 857375, 884736, 912673, 941192, 970299, 1000000]\n"
     ]
    }
   ],
   "source": [
    "res = []\n",
    "for i in l1:\n",
    "    res.append(pow(i, 3))\n",
    "print(res)"
   ]
  },
  {
   "cell_type": "code",
   "execution_count": 19,
   "id": "798fb125-220e-4656-a0f5-12ebd372b291",
   "metadata": {},
   "outputs": [
    {
     "name": "stdout",
     "output_type": "stream",
     "text": [
      "[1, 8, 27, 64, 125, 216, 343, 512, 729, 1000, 1331, 1728, 2197, 2744, 3375, 4096, 4913, 5832, 6859, 8000, 9261, 10648, 12167, 13824, 15625, 17576, 19683, 21952, 24389, 27000, 29791, 32768, 35937, 39304, 42875, 46656, 50653, 54872, 59319, 64000, 68921, 74088, 79507, 85184, 91125, 97336, 103823, 110592, 117649, 125000, 132651, 140608, 148877, 157464, 166375, 175616, 185193, 195112, 205379, 216000, 226981, 238328, 250047, 262144, 274625, 287496, 300763, 314432, 328509, 343000, 357911, 373248, 389017, 405224, 421875, 438976, 456533, 474552, 493039, 512000, 531441, 551368, 571787, 592704, 614125, 636056, 658503, 681472, 704969, 729000, 753571, 778688, 804357, 830584, 857375, 884736, 912673, 941192, 970299, 1000000]\n"
     ]
    }
   ],
   "source": [
    "res=[]\n",
    "i = 1\n",
    "while i <= 100:\n",
    "    res.append(pow(i, 3))\n",
    "    i += 1\n",
    "print(res)\n",
    "    "
   ]
  },
  {
   "cell_type": "code",
   "execution_count": 20,
   "id": "f0f7de2f-ee5a-4406-8cbe-f1623814d95c",
   "metadata": {},
   "outputs": [
    {
     "name": "stdout",
     "output_type": "stream",
     "text": [
      "[8, 64, 125, 216, 512, 1000, 1728, 2744, 3375, 4096, 5832, 8000, 10648, 13824, 15625, 17576, 21952, 27000, 32768, 39304, 42875, 46656, 54872, 64000, 74088, 85184, 91125, 97336, 110592, 125000, 140608, 157464, 166375, 175616, 195112, 216000, 238328, 262144, 274625, 287496, 314432, 343000, 373248, 405224, 421875, 438976, 474552, 512000, 551368, 592704, 614125, 636056, 681472, 729000, 778688, 830584, 857375, 884736, 941192, 1000000]\n"
     ]
    }
   ],
   "source": [
    "res2=[]\n",
    "for i in range(1, len(res)):\n",
    "    if (res[i]%4==0 or res[i]%5 == 0):\n",
    "        res2.append(res[i])\n",
    "print(res2)"
   ]
  },
  {
   "cell_type": "markdown",
   "id": "7eae7e26-eb85-4727-a73f-d36a691c9967",
   "metadata": {},
   "source": [
    "5.Writ a program to filter count vowels in the given below string.\n",
    "string = \"i want to become a data scientist\""
   ]
  },
  {
   "cell_type": "code",
   "execution_count": 21,
   "id": "0b0b4e8f-50ad-4752-b830-56323b196985",
   "metadata": {},
   "outputs": [
    {
     "name": "stdout",
     "output_type": "stream",
     "text": [
      "Number of vowels in the given string are:  11\n"
     ]
    }
   ],
   "source": [
    "string = \"i want to become a data scirntist\"\n",
    "count = 0\n",
    "for i in range(len(string)):\n",
    "    if ((string[i]==\"a\")\n",
    "        or(string[i]==\"e\")\n",
    "        or(string[i]==\"i\")\n",
    "        or(string[i]==\"o\")\n",
    "        or(string[i]==\"u\")):\n",
    "        count += 1\n",
    "print(\"Number of vowels in the given string are: \", count)\n",
    "           "
   ]
  },
  {
   "cell_type": "code",
   "execution_count": null,
   "id": "26873abf-4edd-4065-8464-9fad9a5c7552",
   "metadata": {},
   "outputs": [],
   "source": []
  }
 ],
 "metadata": {
  "kernelspec": {
   "display_name": "Python 3 (ipykernel)",
   "language": "python",
   "name": "python3"
  },
  "language_info": {
   "codemirror_mode": {
    "name": "ipython",
    "version": 3
   },
   "file_extension": ".py",
   "mimetype": "text/x-python",
   "name": "python",
   "nbconvert_exporter": "python",
   "pygments_lexer": "ipython3",
   "version": "3.10.8"
  }
 },
 "nbformat": 4,
 "nbformat_minor": 5
}
